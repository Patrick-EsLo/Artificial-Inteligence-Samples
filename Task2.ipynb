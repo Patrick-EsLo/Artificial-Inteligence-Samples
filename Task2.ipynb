{
  "nbformat": 4,
  "nbformat_minor": 0,
  "metadata": {
    "colab": {
      "name": "Atividade_2_Grupo_2_IA.ipynb",
      "provenance": [],
      "collapsed_sections": []
    },
    "kernelspec": {
      "name": "python3",
      "display_name": "Python 3"
    },
    "language_info": {
      "name": "python"
    }
  },
  "cells": [
    {
      "cell_type": "markdown",
      "metadata": {
        "id": "7yvYdJkbqK25"
      },
      "source": [
        "Atividade 2 IA - 2021-09-15"
      ]
    },
    {
      "cell_type": "markdown",
      "metadata": {
        "id": "lJXRwa_LqVbX"
      },
      "source": [
        "Gabriel Panema      TIA: 41780337 |\n",
        "Mateus Rodrigues    TIA: 41634276 |\n",
        "Patrick Lopes       TIA: 31613845 |\n",
        "Ricardo Daracdjian  TIA: 31728758 |\n",
        "Vitor Cabral        TIA: 31701620"
      ]
    },
    {
      "cell_type": "markdown",
      "metadata": {
        "id": "dP5pF0uwrDUC"
      },
      "source": [
        "1)"
      ]
    },
    {
      "cell_type": "code",
      "metadata": {
        "id": "wt0hCXFosdoz"
      },
      "source": [
        "import numpy as np\n",
        "import pandas as pd"
      ],
      "execution_count": null,
      "outputs": []
    },
    {
      "cell_type": "code",
      "metadata": {
        "id": "8vs-WB11qCmT"
      },
      "source": [
        "estacoes = pd.read_csv('estaciones.csv',index_col = 0)\n",
        "estacoes.head(3)"
      ],
      "execution_count": null,
      "outputs": []
    },
    {
      "cell_type": "code",
      "metadata": {
        "id": "5Fw3kW9PsjPp"
      },
      "source": [
        "viagens = pd.read_csv('viajes_2019.csv')\n",
        "viagens.head(3)"
      ],
      "execution_count": null,
      "outputs": []
    },
    {
      "cell_type": "code",
      "metadata": {
        "colab": {
          "base_uri": "https://localhost:8080/",
          "height": 315
        },
        "id": "ULIjE2p-srBV",
        "outputId": "becd1adc-7b1b-4fd0-9127-a6b963db8f11"
      },
      "source": [
        "viagens_por_estacao = viagens.merge(estacoes, left_on = \"Ciclo_Estacion_Retiro\", right_on =\"id\", how =  'inner')\n",
        "viagens_por_estacao.head(3)"
      ],
      "execution_count": null,
      "outputs": [
        {
          "output_type": "execute_result",
          "data": {
            "text/html": [
              "<div>\n",
              "<style scoped>\n",
              "    .dataframe tbody tr th:only-of-type {\n",
              "        vertical-align: middle;\n",
              "    }\n",
              "\n",
              "    .dataframe tbody tr th {\n",
              "        vertical-align: top;\n",
              "    }\n",
              "\n",
              "    .dataframe thead th {\n",
              "        text-align: right;\n",
              "    }\n",
              "</style>\n",
              "<table border=\"1\" class=\"dataframe\">\n",
              "  <thead>\n",
              "    <tr style=\"text-align: right;\">\n",
              "      <th></th>\n",
              "      <th>Genero_Usuario</th>\n",
              "      <th>Edad_Usuario</th>\n",
              "      <th>Bici</th>\n",
              "      <th>Ciclo_Estacion_Retiro</th>\n",
              "      <th>Fecha_Retiro</th>\n",
              "      <th>Hora_Retiro</th>\n",
              "      <th>Ciclo_Estacion_Arribo</th>\n",
              "      <th>Fecha_Arribo</th>\n",
              "      <th>Hora_Arribo</th>\n",
              "      <th>address</th>\n",
              "      <th>districtName</th>\n",
              "      <th>id</th>\n",
              "      <th>location</th>\n",
              "      <th>name</th>\n",
              "      <th>nearbyStations</th>\n",
              "      <th>lat</th>\n",
              "      <th>lon</th>\n",
              "    </tr>\n",
              "  </thead>\n",
              "  <tbody>\n",
              "    <tr>\n",
              "      <th>0</th>\n",
              "      <td>M</td>\n",
              "      <td>30</td>\n",
              "      <td>7685</td>\n",
              "      <td>136</td>\n",
              "      <td>01/09/2019</td>\n",
              "      <td>0:00:54</td>\n",
              "      <td>256</td>\n",
              "      <td>01/09/2019</td>\n",
              "      <td>0:08:28</td>\n",
              "      <td>136 - Tonalá-Álvaro Obregón</td>\n",
              "      <td>Roma Norte</td>\n",
              "      <td>136</td>\n",
              "      <td>{'lat': 19.417715, 'lon': -99.162729}</td>\n",
              "      <td>136 ÁLVARO OBREGÓN-TONALÁ</td>\n",
              "      <td>[136]</td>\n",
              "      <td>19.417715</td>\n",
              "      <td>-99.162729</td>\n",
              "    </tr>\n",
              "    <tr>\n",
              "      <th>1</th>\n",
              "      <td>M</td>\n",
              "      <td>29</td>\n",
              "      <td>4312</td>\n",
              "      <td>136</td>\n",
              "      <td>01/09/2019</td>\n",
              "      <td>0:24:44</td>\n",
              "      <td>180</td>\n",
              "      <td>01/09/2019</td>\n",
              "      <td>0:43:34</td>\n",
              "      <td>136 - Tonalá-Álvaro Obregón</td>\n",
              "      <td>Roma Norte</td>\n",
              "      <td>136</td>\n",
              "      <td>{'lat': 19.417715, 'lon': -99.162729}</td>\n",
              "      <td>136 ÁLVARO OBREGÓN-TONALÁ</td>\n",
              "      <td>[136]</td>\n",
              "      <td>19.417715</td>\n",
              "      <td>-99.162729</td>\n",
              "    </tr>\n",
              "    <tr>\n",
              "      <th>2</th>\n",
              "      <td>M</td>\n",
              "      <td>37</td>\n",
              "      <td>4193</td>\n",
              "      <td>136</td>\n",
              "      <td>01/09/2019</td>\n",
              "      <td>0:48:15</td>\n",
              "      <td>143</td>\n",
              "      <td>01/09/2019</td>\n",
              "      <td>0:53:57</td>\n",
              "      <td>136 - Tonalá-Álvaro Obregón</td>\n",
              "      <td>Roma Norte</td>\n",
              "      <td>136</td>\n",
              "      <td>{'lat': 19.417715, 'lon': -99.162729}</td>\n",
              "      <td>136 ÁLVARO OBREGÓN-TONALÁ</td>\n",
              "      <td>[136]</td>\n",
              "      <td>19.417715</td>\n",
              "      <td>-99.162729</td>\n",
              "    </tr>\n",
              "  </tbody>\n",
              "</table>\n",
              "</div>"
            ],
            "text/plain": [
              "  Genero_Usuario  Edad_Usuario  Bici  ...  nearbyStations        lat        lon\n",
              "0              M            30  7685  ...           [136]  19.417715 -99.162729\n",
              "1              M            29  4312  ...           [136]  19.417715 -99.162729\n",
              "2              M            37  4193  ...           [136]  19.417715 -99.162729\n",
              "\n",
              "[3 rows x 17 columns]"
            ]
          },
          "metadata": {},
          "execution_count": 13
        }
      ]
    },
    {
      "cell_type": "markdown",
      "metadata": {
        "id": "jj6gFIy9tdAW"
      },
      "source": [
        "2)"
      ]
    },
    {
      "cell_type": "code",
      "metadata": {
        "colab": {
          "base_uri": "https://localhost:8080/",
          "height": 111
        },
        "id": "mqrgubC5tcjO",
        "outputId": "7ea26904-5c82-4e6e-8b38-a3f186cbfe9b"
      },
      "source": [
        "viagens_por_estacao.groupby(['Bici']).count()[[\"Hora_Retiro\"]].sort_values(by='Hora_Retiro', ascending=False).head(1)"
      ],
      "execution_count": null,
      "outputs": [
        {
          "output_type": "execute_result",
          "data": {
            "text/html": [
              "<div>\n",
              "<style scoped>\n",
              "    .dataframe tbody tr th:only-of-type {\n",
              "        vertical-align: middle;\n",
              "    }\n",
              "\n",
              "    .dataframe tbody tr th {\n",
              "        vertical-align: top;\n",
              "    }\n",
              "\n",
              "    .dataframe thead th {\n",
              "        text-align: right;\n",
              "    }\n",
              "</style>\n",
              "<table border=\"1\" class=\"dataframe\">\n",
              "  <thead>\n",
              "    <tr style=\"text-align: right;\">\n",
              "      <th></th>\n",
              "      <th>Hora_Retiro</th>\n",
              "    </tr>\n",
              "    <tr>\n",
              "      <th>Bici</th>\n",
              "      <th></th>\n",
              "    </tr>\n",
              "  </thead>\n",
              "  <tbody>\n",
              "    <tr>\n",
              "      <th>12492</th>\n",
              "      <td>191</td>\n",
              "    </tr>\n",
              "  </tbody>\n",
              "</table>\n",
              "</div>"
            ],
            "text/plain": [
              "       Hora_Retiro\n",
              "Bici              \n",
              "12492          191"
            ]
          },
          "metadata": {},
          "execution_count": 18
        }
      ]
    },
    {
      "cell_type": "markdown",
      "metadata": {
        "id": "cRHYzD4Kv5eM"
      },
      "source": [
        "3)"
      ]
    },
    {
      "cell_type": "code",
      "metadata": {
        "id": "sgUhdHtKv6bW"
      },
      "source": [
        "viagens_por_estacao[\"DateTime_Retirada\"] = pd.to_datetime(viagens_por_estacao['Fecha_Retiro'] + \" \" + viagens_por_estacao['Hora_Retiro'], dayfirst = True)\n",
        "viagens_por_estacao[\"DateTime_Chegada\"] = pd.to_datetime(viagens_por_estacao['Fecha_Arribo'] + \" \" + viagens_por_estacao['Hora_Arribo'], dayfirst = True)\n",
        "\n",
        "viagens_por_estacao.head(3)"
      ],
      "execution_count": null,
      "outputs": []
    },
    {
      "cell_type": "code",
      "metadata": {
        "id": "qyIAw-LByHtq"
      },
      "source": [
        "viagens_por_estacao[\"Tempo_Viagem\"] = viagens_por_estacao[\"DateTime_Chegada\"] - viagens_por_estacao[\"DateTime_Retirada\"]\n",
        "viagens_por_estacao.head(3)"
      ],
      "execution_count": null,
      "outputs": []
    },
    {
      "cell_type": "code",
      "metadata": {
        "colab": {
          "base_uri": "https://localhost:8080/"
        },
        "id": "u9xr_Wq4ydfU",
        "outputId": "094710dd-ea1d-4239-e787-8ee4e5fcdbbc"
      },
      "source": [
        "viagens_por_estacao.groupby(['Bici'])[\"Tempo_Viagem\"].sum().sort_values(ascending=False).head(1)"
      ],
      "execution_count": null,
      "outputs": [
        {
          "output_type": "execute_result",
          "data": {
            "text/plain": [
              "Bici\n",
              "7342   132 days 18:41:45\n",
              "Name: Tempo_Viagem, dtype: timedelta64[ns]"
            ]
          },
          "metadata": {},
          "execution_count": 76
        }
      ]
    },
    {
      "cell_type": "markdown",
      "metadata": {
        "id": "ueUY0DVo1-Jg"
      },
      "source": [
        "4)"
      ]
    },
    {
      "cell_type": "code",
      "metadata": {
        "id": "INUZmo832sya"
      },
      "source": [
        "viagens_por_estacao[\"Tempo_Viagem_seconds\"] = viagens_por_estacao['Tempo_Viagem'].apply(lambda x: x.total_seconds())\n",
        "\n",
        "viagens_por_estacao.head(10)"
      ],
      "execution_count": null,
      "outputs": []
    },
    {
      "cell_type": "code",
      "metadata": {
        "colab": {
          "base_uri": "https://localhost:8080/",
          "height": 450
        },
        "id": "v3XN6frf184x",
        "outputId": "e958ec9f-ed72-49d5-c96e-aef577496f16"
      },
      "source": [
        "tempo_medio_por_bike = viagens_por_estacao.groupby(['Bici'])[\"Tempo_Viagem_seconds\"].mean()\n",
        "tempo_medio_por_bike = pd.DataFrame(data=tempo_medio_por_bike)\n",
        "tempo_medio_por_bike[\"Tempo_Viagem\"] = pd.to_timedelta(tempo_medio_por_bike['Tempo_Viagem_seconds'], unit='s')\n",
        "tempo_medio_por_bike.sort_values(by = 'Tempo_Viagem', ascending=False)"
      ],
      "execution_count": null,
      "outputs": [
        {
          "output_type": "execute_result",
          "data": {
            "text/html": [
              "<div>\n",
              "<style scoped>\n",
              "    .dataframe tbody tr th:only-of-type {\n",
              "        vertical-align: middle;\n",
              "    }\n",
              "\n",
              "    .dataframe tbody tr th {\n",
              "        vertical-align: top;\n",
              "    }\n",
              "\n",
              "    .dataframe thead th {\n",
              "        text-align: right;\n",
              "    }\n",
              "</style>\n",
              "<table border=\"1\" class=\"dataframe\">\n",
              "  <thead>\n",
              "    <tr style=\"text-align: right;\">\n",
              "      <th></th>\n",
              "      <th>Tempo_Viagem_seconds</th>\n",
              "      <th>Tempo_Viagem</th>\n",
              "    </tr>\n",
              "    <tr>\n",
              "      <th>Bici</th>\n",
              "      <th></th>\n",
              "      <th></th>\n",
              "    </tr>\n",
              "  </thead>\n",
              "  <tbody>\n",
              "    <tr>\n",
              "      <th>7342</th>\n",
              "      <td>1.147210e+07</td>\n",
              "      <td>132 days 18:41:45</td>\n",
              "    </tr>\n",
              "    <tr>\n",
              "      <th>10380</th>\n",
              "      <td>1.012670e+05</td>\n",
              "      <td>1 days 04:07:47</td>\n",
              "    </tr>\n",
              "    <tr>\n",
              "      <th>12095</th>\n",
              "      <td>6.184600e+04</td>\n",
              "      <td>0 days 17:10:46</td>\n",
              "    </tr>\n",
              "    <tr>\n",
              "      <th>8883</th>\n",
              "      <td>3.205907e+04</td>\n",
              "      <td>0 days 08:54:19.072000</td>\n",
              "    </tr>\n",
              "    <tr>\n",
              "      <th>4298</th>\n",
              "      <td>3.144593e+04</td>\n",
              "      <td>0 days 08:44:05.928571429</td>\n",
              "    </tr>\n",
              "    <tr>\n",
              "      <th>...</th>\n",
              "      <td>...</td>\n",
              "      <td>...</td>\n",
              "    </tr>\n",
              "    <tr>\n",
              "      <th>14101</th>\n",
              "      <td>3.040000e+02</td>\n",
              "      <td>0 days 00:05:04</td>\n",
              "    </tr>\n",
              "    <tr>\n",
              "      <th>9879</th>\n",
              "      <td>2.555000e+02</td>\n",
              "      <td>0 days 00:04:15.500000</td>\n",
              "    </tr>\n",
              "    <tr>\n",
              "      <th>11542</th>\n",
              "      <td>2.440000e+02</td>\n",
              "      <td>0 days 00:04:04</td>\n",
              "    </tr>\n",
              "    <tr>\n",
              "      <th>10050</th>\n",
              "      <td>2.310000e+02</td>\n",
              "      <td>0 days 00:03:51</td>\n",
              "    </tr>\n",
              "    <tr>\n",
              "      <th>14096</th>\n",
              "      <td>1.945000e+02</td>\n",
              "      <td>0 days 00:03:14.500000</td>\n",
              "    </tr>\n",
              "  </tbody>\n",
              "</table>\n",
              "<p>5598 rows × 2 columns</p>\n",
              "</div>"
            ],
            "text/plain": [
              "       Tempo_Viagem_seconds              Tempo_Viagem\n",
              "Bici                                                 \n",
              "7342           1.147210e+07         132 days 18:41:45\n",
              "10380          1.012670e+05           1 days 04:07:47\n",
              "12095          6.184600e+04           0 days 17:10:46\n",
              "8883           3.205907e+04    0 days 08:54:19.072000\n",
              "4298           3.144593e+04 0 days 08:44:05.928571429\n",
              "...                     ...                       ...\n",
              "14101          3.040000e+02           0 days 00:05:04\n",
              "9879           2.555000e+02    0 days 00:04:15.500000\n",
              "11542          2.440000e+02           0 days 00:04:04\n",
              "10050          2.310000e+02           0 days 00:03:51\n",
              "14096          1.945000e+02    0 days 00:03:14.500000\n",
              "\n",
              "[5598 rows x 2 columns]"
            ]
          },
          "metadata": {},
          "execution_count": 96
        }
      ]
    },
    {
      "cell_type": "markdown",
      "metadata": {
        "id": "WIMhGOoJ8Mbl"
      },
      "source": [
        "5)"
      ]
    },
    {
      "cell_type": "code",
      "metadata": {
        "id": "sVptQ2iX8NUD"
      },
      "source": [
        "viagens_por_estacao_136 = viagens_por_estacao[viagens_por_estacao['Ciclo_Estacion_Retiro'] == 136]\n",
        "viagens_por_estacao_136.head(10)"
      ],
      "execution_count": null,
      "outputs": []
    },
    {
      "cell_type": "code",
      "metadata": {
        "colab": {
          "base_uri": "https://localhost:8080/"
        },
        "id": "Qn1LPcCp9k46",
        "outputId": "3457318a-fa65-4de3-c71a-1a6a66f1035f"
      },
      "source": [
        "viagens_por_estacao_136[\"Edad_Usuario\"].mean()"
      ],
      "execution_count": null,
      "outputs": [
        {
          "output_type": "execute_result",
          "data": {
            "text/plain": [
              "34.574539877300616"
            ]
          },
          "metadata": {},
          "execution_count": 92
        }
      ]
    }
  ]
}